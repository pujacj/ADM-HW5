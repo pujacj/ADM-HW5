{
 "cells": [
  {
   "cell_type": "markdown",
   "metadata": {},
   "source": [
    "### Functionality 1 - Find the Neighbours!\n",
    "It takes in input:\n",
    "\n",
    "a node v\n",
    "\n",
    "One of the following distances function: t(x,y), d(x,y) or network distance (i.e. consider all edges to have weight equal to 1).\n",
    "\n",
    "a distance threshold d\n",
    "\n",
    "Implement an algorithm (using proper data structures) that returns the set of nodes at distance <= d from v, corresponding to v’s neighborhood."
   ]
  },
  {
   "cell_type": "code",
   "execution_count": 1,
   "metadata": {},
   "outputs": [],
   "source": [
    "import pandas as pd"
   ]
  },
  {
   "cell_type": "code",
   "execution_count": 2,
   "metadata": {},
   "outputs": [],
   "source": [
    "node_info= pd.read_csv(\"node_information_file.csv\")\n",
    "travel_time= pd.read_csv(\"travel_time_graph.csv\")\n",
    "spatial_distance= pd.read_csv(\"distance_graph.csv\")"
   ]
  },
  {
   "cell_type": "code",
   "execution_count": 3,
   "metadata": {},
   "outputs": [],
   "source": [
    "spatial_distance.columns=['Node1', 'Node2', 'distance']\n",
    "travel_time.columns=['Node1', 'Node2', 'distance']\n",
    "\n",
    "from pandas import DataFrame\n",
    "network_df=DataFrame(columns= ['Node1', 'Node2','network_distance'])\n",
    "network_df['Node1'] = pd.Series(travel_time['Node1'])\n",
    "network_df['Node2'] = pd.Series(travel_time['Node2'])\n",
    "network_df['network_distance']=1"
   ]
  },
  {
   "cell_type": "code",
   "execution_count": 15,
   "metadata": {},
   "outputs": [
    {
     "name": "stdout",
     "output_type": "stream",
     "text": [
      "Choose a starting node: 1\n",
      "Choose a type of distance: spatial\n",
      "Insert a treshold value: 4000\n",
      "{1048577, 1803, 2589, 1}\n"
     ]
    }
   ],
   "source": [
    "v= int(input(\"Choose a starting node: \"))\n",
    "distance=input(\"Choose a type of distance: \")\n",
    "max_depth=int(input(\"Insert a treshold value: \"))   \n",
    "    \n",
    "def search_neighbour(v, distance, max_depth): \n",
    "    \n",
    "    if distance == \"spatial\":\n",
    "        df = spatial_distance\n",
    "    elif distance == \"time\":\n",
    "        df = travel_time\n",
    "    elif distance == \"network\":\n",
    "        df = network_distance\n",
    "\n",
    "    neighbour = df[(df['Node1'] == v) & (df['distance'] <= max_depth)]\n",
    "    l_n = len(neighbour)\n",
    "\n",
    "    if l_n>0:\n",
    "        listaNodi2 = neighbour['Node2'].tolist()\n",
    "        for nodo2 in listaNodi2:\n",
    "            d = df[(df['Node1'] == v) & (df['Node2'] == nodo2)]\n",
    "            d=int(d['distance'])\n",
    "            neighbour=pd.concat([neighbour,search_neighbour2(nodo2, distance, max_depth-d)]).drop_duplicates().reset_index(drop=True)\n",
    "    return neighbour\n",
    "\n",
    "\n",
    "\n",
    "neighbour=search_neighbour(v,distance,max_depth)\n",
    "result = set(neighbour['Node2'].tolist())\n",
    "\n",
    "print(result)"
   ]
  }
 ],
 "metadata": {
  "kernelspec": {
   "display_name": "Python 3",
   "language": "python",
   "name": "python3"
  },
  "language_info": {
   "codemirror_mode": {
    "name": "ipython",
    "version": 3
   },
   "file_extension": ".py",
   "mimetype": "text/x-python",
   "name": "python",
   "nbconvert_exporter": "python",
   "pygments_lexer": "ipython3",
   "version": "3.7.3"
  }
 },
 "nbformat": 4,
 "nbformat_minor": 2
}
