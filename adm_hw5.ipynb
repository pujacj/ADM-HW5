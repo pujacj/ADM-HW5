{
 "cells": [
  {
   "cell_type": "markdown",
   "metadata": {},
   "source": [
    "<h1> Functionality 3 - Shortest Ordered Route</h1>"
   ]
  },
  {
   "cell_type": "code",
   "execution_count": 326,
   "metadata": {},
   "outputs": [],
   "source": [
    "#import libraries\n",
    "import pandas as pd\n",
    "import csv\n",
    "import networkx as nx\n",
    "import matplotlib.pyplot as plt\n",
    "from networkx.algorithms.shortest_paths.weighted import single_source_dijkstra\n",
    "import collections\n",
    "import heapq\n",
    "from collections import defaultdict\n",
    "from itertools import groupby"
   ]
  },
  {
   "cell_type": "markdown",
   "metadata": {},
   "source": [
    "<h2> Read the data </h2>"
   ]
  },
  {
   "cell_type": "code",
   "execution_count": 106,
   "metadata": {},
   "outputs": [
    {
     "name": "stdout",
     "output_type": "stream",
     "text": [
      "c 9th DIMACS Implementation Challenge: Shortest Paths\n",
      "\n",
      "c http://www.dis.uniroma1.it/~challenge9\n",
      "\n",
      "c TIGER/Line graph USA-road-d.CAL\n",
      "\n",
      "c\n",
      "\n",
      "p sp 1890815 4657742\n",
      "\n",
      "c graph contains 1890815 nodes and 4657742 arcs\n",
      "\n",
      "c\n",
      "\n",
      "a 1 1048577 456\n",
      "\n"
     ]
    }
   ],
   "source": [
    "#check the content of the files by printing only few lines\n",
    "line_num = 0\n",
    "with open(\"USA-road-d.CAL.gr\", encoding='utf-8') as file:\n",
    "    for i in file:\n",
    "        if (line_num < 8):\n",
    "            print(i)\n",
    "            line_num += 1"
   ]
  },
  {
   "cell_type": "code",
   "execution_count": 107,
   "metadata": {},
   "outputs": [],
   "source": [
    "#consider only the lines after 7th line, split the values and store the necessary data in lists\n",
    "node1 = []\n",
    "node2 = []\n",
    "distance = []\n",
    "line_num = 0\n",
    "with open(\"USA-road-d.CAL.gr\", encoding='utf-8') as file:\n",
    "    for i in file:\n",
    "        if (line_num > 6):\n",
    "            parts = i.split()\n",
    "            node1.append(parts[1])\n",
    "            node2.append(parts[2])\n",
    "            distance.append(parts[3])\n",
    "        line_num += 1"
   ]
  },
  {
   "cell_type": "code",
   "execution_count": 108,
   "metadata": {},
   "outputs": [],
   "source": [
    "#create a dataframe of the lists with another column (ie. network distance = 1) \n",
    "df = pd.DataFrame(\n",
    "    {'source': node1,\n",
    "     'target': node2,\n",
    "     'distance': distance,\n",
    "     'weight' : 1\n",
    "    })"
   ]
  },
  {
   "cell_type": "code",
   "execution_count": 109,
   "metadata": {
    "scrolled": false
   },
   "outputs": [
    {
     "data": {
      "text/html": [
       "<div>\n",
       "<style scoped>\n",
       "    .dataframe tbody tr th:only-of-type {\n",
       "        vertical-align: middle;\n",
       "    }\n",
       "\n",
       "    .dataframe tbody tr th {\n",
       "        vertical-align: top;\n",
       "    }\n",
       "\n",
       "    .dataframe thead th {\n",
       "        text-align: right;\n",
       "    }\n",
       "</style>\n",
       "<table border=\"1\" class=\"dataframe\">\n",
       "  <thead>\n",
       "    <tr style=\"text-align: right;\">\n",
       "      <th></th>\n",
       "      <th>source</th>\n",
       "      <th>target</th>\n",
       "      <th>distance</th>\n",
       "      <th>weight</th>\n",
       "    </tr>\n",
       "  </thead>\n",
       "  <tbody>\n",
       "    <tr>\n",
       "      <th>0</th>\n",
       "      <td>1</td>\n",
       "      <td>1048577</td>\n",
       "      <td>456</td>\n",
       "      <td>1</td>\n",
       "    </tr>\n",
       "    <tr>\n",
       "      <th>1</th>\n",
       "      <td>1048577</td>\n",
       "      <td>1</td>\n",
       "      <td>456</td>\n",
       "      <td>1</td>\n",
       "    </tr>\n",
       "    <tr>\n",
       "      <th>2</th>\n",
       "      <td>2</td>\n",
       "      <td>1048578</td>\n",
       "      <td>2389</td>\n",
       "      <td>1</td>\n",
       "    </tr>\n",
       "    <tr>\n",
       "      <th>3</th>\n",
       "      <td>1048578</td>\n",
       "      <td>2</td>\n",
       "      <td>2389</td>\n",
       "      <td>1</td>\n",
       "    </tr>\n",
       "    <tr>\n",
       "      <th>4</th>\n",
       "      <td>3</td>\n",
       "      <td>1048579</td>\n",
       "      <td>358</td>\n",
       "      <td>1</td>\n",
       "    </tr>\n",
       "    <tr>\n",
       "      <th>...</th>\n",
       "      <td>...</td>\n",
       "      <td>...</td>\n",
       "      <td>...</td>\n",
       "      <td>...</td>\n",
       "    </tr>\n",
       "    <tr>\n",
       "      <th>4657737</th>\n",
       "      <td>1890815</td>\n",
       "      <td>1048576</td>\n",
       "      <td>5642</td>\n",
       "      <td>1</td>\n",
       "    </tr>\n",
       "    <tr>\n",
       "      <th>4657738</th>\n",
       "      <td>989247</td>\n",
       "      <td>1048576</td>\n",
       "      <td>3212</td>\n",
       "      <td>1</td>\n",
       "    </tr>\n",
       "    <tr>\n",
       "      <th>4657739</th>\n",
       "      <td>1048576</td>\n",
       "      <td>989247</td>\n",
       "      <td>3212</td>\n",
       "      <td>1</td>\n",
       "    </tr>\n",
       "    <tr>\n",
       "      <th>4657740</th>\n",
       "      <td>1048572</td>\n",
       "      <td>1890810</td>\n",
       "      <td>7230</td>\n",
       "      <td>1</td>\n",
       "    </tr>\n",
       "    <tr>\n",
       "      <th>4657741</th>\n",
       "      <td>1890810</td>\n",
       "      <td>1048572</td>\n",
       "      <td>7230</td>\n",
       "      <td>1</td>\n",
       "    </tr>\n",
       "  </tbody>\n",
       "</table>\n",
       "<p>4657742 rows × 4 columns</p>\n",
       "</div>"
      ],
      "text/plain": [
       "          source   target distance  weight\n",
       "0              1  1048577      456       1\n",
       "1        1048577        1      456       1\n",
       "2              2  1048578     2389       1\n",
       "3        1048578        2     2389       1\n",
       "4              3  1048579      358       1\n",
       "...          ...      ...      ...     ...\n",
       "4657737  1890815  1048576     5642       1\n",
       "4657738   989247  1048576     3212       1\n",
       "4657739  1048576   989247     3212       1\n",
       "4657740  1048572  1890810     7230       1\n",
       "4657741  1890810  1048572     7230       1\n",
       "\n",
       "[4657742 rows x 4 columns]"
      ]
     },
     "execution_count": 109,
     "metadata": {},
     "output_type": "execute_result"
    }
   ],
   "source": [
    "#check how the dataframe looks\n",
    "df"
   ]
  },
  {
   "cell_type": "code",
   "execution_count": 110,
   "metadata": {},
   "outputs": [],
   "source": [
    "#drop the column with distance as we will use network distance\n",
    "df = df.drop(columns = [\"distance\"])"
   ]
  },
  {
   "cell_type": "code",
   "execution_count": 111,
   "metadata": {},
   "outputs": [],
   "source": [
    "#use networkx to create an edgelist (for validating the results)\n",
    "G = nx.from_pandas_edgelist(df,'source','target', edge_attr='weight')"
   ]
  },
  {
   "cell_type": "markdown",
   "metadata": {},
   "source": [
    "<h2> The shortest route function </h2>"
   ]
  },
  {
   "cell_type": "code",
   "execution_count": 116,
   "metadata": {},
   "outputs": [],
   "source": [
    "#create a class called Graph where \n",
    "#self.edges is a dict of all possible next nodes e.g. {'1': ['4', '3', '8', '9'], ...}\n",
    "#self.weights has all the weights between two nodes, with the two nodes as a tuple as the key e.g. {('1', '2'): 1, ('5', '9'): 1, ...}\n",
    "\n",
    "class Graph():\n",
    "    def __init__(self):\n",
    "        self.edges = defaultdict(list)\n",
    "        self.weights = {}\n",
    "    \n",
    "    def add_edge(self, from_node, to_node, weight):\n",
    "        # assuming edges are bi-directional\n",
    "        self.edges[from_node].append(to_node)\n",
    "        self.edges[to_node].append(from_node)\n",
    "        self.weights[(from_node, to_node)] = weight\n",
    "        self.weights[(to_node, from_node)] = weight"
   ]
  },
  {
   "cell_type": "code",
   "execution_count": 117,
   "metadata": {},
   "outputs": [],
   "source": [
    "#call the Graph class\n",
    "graph = Graph()"
   ]
  },
  {
   "cell_type": "code",
   "execution_count": 123,
   "metadata": {},
   "outputs": [],
   "source": [
    "#create an edge list with source, target and network distance\n",
    "edge_list = []\n",
    "for i,j in df.iterrows():\n",
    "    edge_list.append((j[0],j[1],j[2]))"
   ]
  },
  {
   "cell_type": "code",
   "execution_count": 124,
   "metadata": {},
   "outputs": [],
   "source": [
    "#add the edge list to the graph\n",
    "for edge in edge_list:\n",
    "    graph.add_edge(*edge)"
   ]
  },
  {
   "cell_type": "code",
   "execution_count": 260,
   "metadata": {},
   "outputs": [],
   "source": [
    "#shortest route function\n",
    "def dijsktra(graph, initial, end):\n",
    "    # shortest paths is a dict of nodes\n",
    "    # whose value is a tuple of (previous node, weight)\n",
    "    shortest_paths = {initial: (None, 0)}\n",
    "    current_node = initial\n",
    "    visited = set()\n",
    "    \n",
    "    while current_node != end:\n",
    "        visited.add(current_node)\n",
    "        destinations = graph.edges[current_node]\n",
    "        weight_to_current_node = shortest_paths[current_node][1]\n",
    "\n",
    "        for next_node in destinations:\n",
    "            weight = graph.weights[(current_node, next_node)] + weight_to_current_node\n",
    "            if next_node not in shortest_paths:\n",
    "                shortest_paths[next_node] = (current_node, weight)\n",
    "            else:\n",
    "                current_shortest_weight = shortest_paths[next_node][1]\n",
    "                if current_shortest_weight > weight:\n",
    "                    shortest_paths[next_node] = (current_node, weight)\n",
    "    \n",
    "        next_destinations = {node: shortest_paths[node] for node in shortest_paths if node not in visited}\n",
    "        if not next_destinations:\n",
    "            return \"Route Not Possible\"\n",
    "        # next node is the destination with the lowest weight\n",
    "        current_node = min(next_destinations, key=lambda k: next_destinations[k][1])\n",
    "        \n",
    "\n",
    "    # Work back through destinations in shortest path\n",
    "    path = []\n",
    "    weights = []\n",
    "    while current_node is not None:\n",
    "        path.append(current_node)\n",
    "        next_node = shortest_paths[current_node][0]\n",
    "        weights.append(shortest_paths[current_node][1])\n",
    "        current_node = next_node\n",
    "    # Reverse path\n",
    "    path = path[::-1]\n",
    "    return weights[0],path"
   ]
  },
  {
   "cell_type": "code",
   "execution_count": 370,
   "metadata": {},
   "outputs": [
    {
     "name": "stdout",
     "output_type": "stream",
     "text": [
      "21\n"
     ]
    }
   ],
   "source": [
    "#take the source input\n",
    "source = input()"
   ]
  },
  {
   "cell_type": "code",
   "execution_count": 371,
   "metadata": {},
   "outputs": [
    {
     "name": "stdout",
     "output_type": "stream",
     "text": [
      "22\n",
      "23\n",
      "24\n",
      "\n"
     ]
    }
   ],
   "source": [
    "#take the destination input\n",
    "list_of_nodes_to_dest = []\n",
    "list_of_nodes_to_dest.append(source)\n",
    "while True:\n",
    "    inp = input()\n",
    "    if inp == \"\":\n",
    "        break\n",
    "    else:\n",
    "        list_of_nodes_to_dest.append(inp)"
   ]
  },
  {
   "cell_type": "code",
   "execution_count": 380,
   "metadata": {},
   "outputs": [],
   "source": [
    "#pack the graph, source input and destination input into a tuple ie. (graph,source,destination)\n",
    "res = [(graph ,list_of_nodes_to_dest[i], list_of_nodes_to_dest[i + 1])\n",
    "        for i in range(len(list_of_nodes_to_dest) - 1)] "
   ]
  },
  {
   "cell_type": "code",
   "execution_count": 381,
   "metadata": {},
   "outputs": [
    {
     "name": "stdout",
     "output_type": "stream",
     "text": [
      "21 -> 22 (12, ['21', '20', '19', '18', '1048591', '155', '139', '1048683', '124', '16', '17', '1048592', '22'])\n",
      "22 -> 23 (11, ['22', '1048593', '2319', '1048641', '80', '66', '1048629', '65', '1048628', '1048625', '61', '23'])\n",
      "23 -> 24 (1, ['23', '24'])\n"
     ]
    }
   ],
   "source": [
    "#call the shortest route function to find the shortest path and weight between each set of nodes\n",
    "arr = []\n",
    "for tripple in res:\n",
    "    for i in dijsktra(*tripple):\n",
    "        arr.append(i)\n",
    "    print(tripple[1] +\" -> \" +tripple[2], dijsktra(*tripple))"
   ]
  },
  {
   "cell_type": "code",
   "execution_count": 374,
   "metadata": {},
   "outputs": [
    {
     "data": {
      "text/plain": [
       "(12,\n",
       " ['21',\n",
       "  '20',\n",
       "  '19',\n",
       "  '18',\n",
       "  '1048591',\n",
       "  '155',\n",
       "  '139',\n",
       "  '1048683',\n",
       "  '124',\n",
       "  '16',\n",
       "  '17',\n",
       "  '1048592',\n",
       "  '22'])"
      ]
     },
     "execution_count": 374,
     "metadata": {},
     "output_type": "execute_result"
    }
   ],
   "source": [
    "#run the below function to find the shortest path for a set of nodes(for validating the results)\n",
    "single_source_dijkstra(G,'21','22')"
   ]
  },
  {
   "cell_type": "code",
   "execution_count": 383,
   "metadata": {},
   "outputs": [
    {
     "name": "stdout",
     "output_type": "stream",
     "text": [
      "[12, ['21', '20', '19', '18', '1048591', '155', '139', '1048683', '124', '16', '17', '1048592', '22'], 11, ['22', '1048593', '2319', '1048641', '80', '66', '1048629', '65', '1048628', '1048625', '61', '23'], 1, ['23', '24']]\n"
     ]
    }
   ],
   "source": [
    "print(arr)"
   ]
  },
  {
   "cell_type": "code",
   "execution_count": 384,
   "metadata": {},
   "outputs": [],
   "source": [
    "#store the resultant path and weight separately\n",
    "res_path = [arr[i] for i in range(len(arr)) if i % 2 != 0] \n",
    "res_weight = [arr[i] for i in range(len(arr)) if i % 2 == 0] "
   ]
  },
  {
   "cell_type": "code",
   "execution_count": 388,
   "metadata": {},
   "outputs": [],
   "source": [
    "#flatten the list of lists of path\n",
    "flattened_list = []\n",
    "for x in res_path:\n",
    "    for y in x:\n",
    "        flattened_list.append(y)"
   ]
  },
  {
   "cell_type": "code",
   "execution_count": 390,
   "metadata": {},
   "outputs": [],
   "source": [
    "#clean up the path and add up the weights of the set of nodes\n",
    "res_path = [x[0] for x in groupby(flattened_list)]\n",
    "res_weight  = sum(res_weight)"
   ]
  },
  {
   "cell_type": "code",
   "execution_count": 391,
   "metadata": {},
   "outputs": [
    {
     "name": "stdout",
     "output_type": "stream",
     "text": [
      "The shortest route from 21 to 24 is:\n",
      "['21', '20', '19', '18', '1048591', '155', '139', '1048683', '124', '16', '17', '1048592', '22', '1048593', '2319', '1048641', '80', '66', '1048629', '65', '1048628', '1048625', '61', '23', '24']\n",
      "The total weight is 24\n"
     ]
    }
   ],
   "source": [
    "print(\"The shortest route from \" + source +\" to \" + list_of_nodes_to_dest[-1] +\" is:\\n\" +str(res_path))\n",
    "print(\"The total weight is \" +str(res_weight))"
   ]
  }
 ],
 "metadata": {
  "kernelspec": {
   "display_name": "Python 3",
   "language": "python",
   "name": "python3"
  },
  "language_info": {
   "codemirror_mode": {
    "name": "ipython",
    "version": 3
   },
   "file_extension": ".py",
   "mimetype": "text/x-python",
   "name": "python",
   "nbconvert_exporter": "python",
   "pygments_lexer": "ipython3",
   "version": "3.7.4"
  }
 },
 "nbformat": 4,
 "nbformat_minor": 2
}
